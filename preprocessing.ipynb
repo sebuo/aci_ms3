{
 "cells": [
  {
   "cell_type": "code",
   "execution_count": null,
   "id": "20ada424",
   "metadata": {},
   "outputs": [],
   "source": [
    "import scanpy as sc\n",
    "import pandas as pd\n",
    "\n",
    "adata = sc.read_h5ad(\"data/rna_PBMC.h5ad\")"
   ]
  },
  {
   "cell_type": "code",
   "execution_count": null,
   "id": "83407768",
   "metadata": {},
   "outputs": [],
   "source": [
    "# Optional: Filter low-quality genes and cells\n",
    "sc.pp.filter_cells(adata, min_genes=200)\n",
    "sc.pp.filter_genes(adata, min_cells=3)\n",
    "\n",
    "# Extract raw counts\n",
    "raw_counts = adata.raw.to_adata().X if adata.raw else adata.X"
   ]
  },
  {
   "cell_type": "code",
   "execution_count": 12,
   "id": "76b70adc",
   "metadata": {},
   "outputs": [
    {
     "name": "stdout",
     "output_type": "stream",
     "text": [
      "(11331, 26222)\n",
      "(11331, 36601)\n",
      "(26222,)\n"
     ]
    }
   ],
   "source": [
    "print(adata.shape)           # (cells, genes)\n",
    "print(adata.raw.shape)       # (cells, genes) if .raw exists\n",
    "print(adata.var_names.shape) # Should match genes in adata"
   ]
  },
  {
   "cell_type": "code",
   "execution_count": null,
   "id": "2bb48051",
   "metadata": {},
   "outputs": [],
   "source": [
    "import scipy.sparse as sp\n",
    "\n",
    "# Choose the correct matrix\n",
    "if adata.raw is not None:\n",
    "    raw_data = adata.raw\n",
    "    counts = raw_data.X\n",
    "    genes = raw_data.var_names\n",
    "else:\n",
    "    counts = adata.X\n",
    "    genes = adata.var_names\n",
    "\n",
    "# Ensure dense format\n",
    "if sp.issparse(counts):\n",
    "    counts = counts.toarray()\n",
    "\n",
    "# Now build the dataframe correctly\n",
    "df = pd.DataFrame(counts.T, index=genes, columns=adata.obs_names)\n",
    "df.to_csv(\"data/pbmc_counts.csv\")\n"
   ]
  },
  {
   "cell_type": "code",
   "execution_count": 18,
   "id": "0b0fa98e",
   "metadata": {},
   "outputs": [],
   "source": [
    "adata.obs[['predicted.id']].to_csv(\"data/cell_types.txt\", sep=\"\\t\", header=False)"
   ]
  },
  {
   "cell_type": "code",
   "execution_count": 23,
   "id": "bf8d22b1",
   "metadata": {},
   "outputs": [],
   "source": [
    "import pandas as pd\n",
    "\n",
    "# 1) load\n",
    "expr = pd.read_csv('test/06hHep_ExpressionDataOrdered.csv', index_col=0)\n",
    "known = pd.read_csv('test/known_network.csv')\n",
    "unknown = pd.read_csv('test/unknown_network.csv')\n",
    "\n",
    "# 2) intersect genes\n",
    "genes = set(expr.index) & (set(known.TF) | set(known.gene))\n",
    "expr = expr.loc[list(genes)]\n",
    "known = known[known.TF.isin(genes) & known.gene.isin(genes)]\n",
    "unknown = unknown[unknown.TF.isin(genes) & unknown.gene.isin(genes)]\n",
    "\n",
    "# 3a) dump STGRNS files\n",
    "expr.to_csv('test/expression_stgrns_common.csv')\n",
    "known.to_csv('test/known_network_stgrns_common.csv', index=False)\n",
    "unknown.to_csv('test/unknown_network_stgrns_common.csv', index=False)\n",
    "\n",
    "# 3b) dump DeepRIG files\n",
    "expr.to_csv('test/Expression_deeprig_common.csv')  # keeps gene names as first column\n",
    "net_dr = known[['TF','gene']].rename(columns={'TF':'Gene1','gene':'Gene2'})\n",
    "net_dr.to_csv('test/network_deeprig_common.csv', index=False)\n"
   ]
  },
  {
   "cell_type": "code",
   "execution_count": 24,
   "id": "7a7c3048",
   "metadata": {},
   "outputs": [],
   "source": [
    "df2 = pd.read_csv('test/stgrns/expression_stgrns_common.csv', index_col=0)\n",
    "\n",
    "# write it as an HDF5 store with the group name the script expects\n",
    "df2.to_hdf('data/mesc_cell_expression.h5',\n",
    "          key='mesc_cell_expression',\n",
    "          mode='w')\n"
   ]
  }
 ],
 "metadata": {
  "kernelspec": {
   "display_name": "grn",
   "language": "python",
   "name": "python3"
  },
  "language_info": {
   "codemirror_mode": {
    "name": "ipython",
    "version": 3
   },
   "file_extension": ".py",
   "mimetype": "text/x-python",
   "name": "python",
   "nbconvert_exporter": "python",
   "pygments_lexer": "ipython3",
   "version": "3.10.16"
  }
 },
 "nbformat": 4,
 "nbformat_minor": 5
}
