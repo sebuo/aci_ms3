{
 "cells": [
  {
   "cell_type": "code",
   "execution_count": null,
   "id": "20ada424",
   "metadata": {},
   "outputs": [],
   "source": [
    "import scanpy as sc\n",
    "import pandas as pd\n",
    "\n",
    "adata = sc.read_h5ad(\"data/rna_PBMC.h5ad\")"
   ]
  },
  {
   "cell_type": "code",
   "execution_count": null,
   "id": "83407768",
   "metadata": {},
   "outputs": [],
   "source": [
    "# Optional: Filter low-quality genes and cells\n",
    "sc.pp.filter_cells(adata, min_genes=200)\n",
    "sc.pp.filter_genes(adata, min_cells=3)\n",
    "\n",
    "# Extract raw counts\n",
    "raw_counts = adata.raw.to_adata().X if adata.raw else adata.X"
   ]
  },
  {
   "cell_type": "code",
   "execution_count": 12,
   "id": "76b70adc",
   "metadata": {},
   "outputs": [
    {
     "name": "stdout",
     "output_type": "stream",
     "text": [
      "(11331, 26222)\n",
      "(11331, 36601)\n",
      "(26222,)\n"
     ]
    }
   ],
   "source": [
    "print(adata.shape)           # (cells, genes)\n",
    "print(adata.raw.shape)       # (cells, genes) if .raw exists\n",
    "print(adata.var_names.shape) # Should match genes in adata"
   ]
  },
  {
   "cell_type": "code",
   "execution_count": null,
   "id": "2bb48051",
   "metadata": {},
   "outputs": [],
   "source": [
    "import scipy.sparse as sp\n",
    "\n",
    "# Choose the correct matrix\n",
    "if adata.raw is not None:\n",
    "    raw_data = adata.raw\n",
    "    counts = raw_data.X\n",
    "    genes = raw_data.var_names\n",
    "else:\n",
    "    counts = adata.X\n",
    "    genes = adata.var_names\n",
    "\n",
    "# Ensure dense format\n",
    "if sp.issparse(counts):\n",
    "    counts = counts.toarray()\n",
    "\n",
    "# Now build the dataframe correctly\n",
    "df = pd.DataFrame(counts.T, index=genes, columns=adata.obs_names)\n",
    "df.to_csv(\"data/pbmc_counts.csv\")\n"
   ]
  },
  {
   "cell_type": "code",
   "execution_count": 18,
   "id": "0b0fa98e",
   "metadata": {},
   "outputs": [],
   "source": [
    "adata.obs[['predicted.id']].to_csv(\"data/cell_types.txt\", sep=\"\\t\", header=False)"
   ]
  }
 ],
 "metadata": {
  "kernelspec": {
   "display_name": "grn",
   "language": "python",
   "name": "python3"
  },
  "language_info": {
   "codemirror_mode": {
    "name": "ipython",
    "version": 3
   },
   "file_extension": ".py",
   "mimetype": "text/x-python",
   "name": "python",
   "nbconvert_exporter": "python",
   "pygments_lexer": "ipython3",
   "version": "3.10.16"
  }
 },
 "nbformat": 4,
 "nbformat_minor": 5
}
